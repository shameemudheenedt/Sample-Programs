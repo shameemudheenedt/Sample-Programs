{
  "nbformat": 4,
  "nbformat_minor": 0,
  "metadata": {
    "colab": {
      "name": "OR_GATE_ IMPLIMENT.ipynb",
      "provenance": [],
      "collapsed_sections": [],
      "authorship_tag": "ABX9TyO/634eKT7HW35uN5uZC1J4",
      "include_colab_link": true
    },
    "kernelspec": {
      "name": "python3",
      "display_name": "Python 3"
    },
    "language_info": {
      "name": "python"
    },
    "accelerator": "GPU",
    "gpuClass": "standard"
  },
  "cells": [
    {
      "cell_type": "markdown",
      "metadata": {
        "id": "view-in-github",
        "colab_type": "text"
      },
      "source": [
        "<a href=\"https://colab.research.google.com/github/shameemudheenedt/Sample-Programs/blob/master/OR_GATE__IMPLIMENT.ipynb\" target=\"_parent\"><img src=\"https://colab.research.google.com/assets/colab-badge.svg\" alt=\"Open In Colab\"/></a>"
      ]
    },
    {
      "cell_type": "code",
      "metadata": {
        "id": "7Fg_Om9Ik20C"
      },
      "source": [
        "from tensorflow.keras import *\n",
        "from tensorflow.keras.layers import Dense\n",
        "from tensorflow.keras.initializers import RandomNormal"
      ],
      "execution_count": 1,
      "outputs": []
    },
    {
      "cell_type": "code",
      "source": [
        "#Step1 DEFINE MODEL\n",
        "model=Sequential(); \n",
        "#>>>>>>> 2nodes - 2 nodes - 1 node MLP\n",
        "model.add(Dense(2, activation='tanh')); \n",
        "model.add(Dense(1, activation='tanh'))\n",
        "sgd = optimizers.SGD(learning_rate=0.0001)\n",
        "model.compile(optimizer='sgd', loss='mse')"
      ],
      "metadata": {
        "id": "A5GEbkm4EE1q"
      },
      "execution_count": 2,
      "outputs": []
    },
    {
      "cell_type": "code",
      "source": [
        "#<<<<<<<<<<<<<Step2 GIVE DATA/DATA SET\n",
        "x=[[0,0],[0,1],[1,0],[1,1]]; y=[[0],[1],[1],[0]]"
      ],
      "metadata": {
        "id": "nLkcNl8BEJbD"
      },
      "execution_count": 3,
      "outputs": []
    },
    {
      "cell_type": "code",
      "source": [
        "#<<<<<<<<<<<<<<<Step3 TRAIN THE MODEL\n",
        "weight_init = RandomNormal()\n",
        "history=model.fit(x,y,epochs=10000, verbose=0);"
      ],
      "metadata": {
        "id": "hgzexqIAEOIR"
      },
      "execution_count": 4,
      "outputs": []
    },
    {
      "cell_type": "code",
      "source": [
        "#<<<<<<<<<<<<<<<Step4 TEST THE MODEL\n",
        "print(model.predict(x))"
      ],
      "metadata": {
        "colab": {
          "base_uri": "https://localhost:8080/"
        },
        "id": "fMpG5bg4ERZD",
        "outputId": "3edf0002-b9be-4cd4-fd9e-f511255f8341"
      },
      "execution_count": 5,
      "outputs": [
        {
          "output_type": "stream",
          "name": "stdout",
          "text": [
            "[[0.00653717]\n",
            " [0.93767065]\n",
            " [0.93786496]\n",
            " [0.01074112]]\n"
          ]
        }
      ]
    }
  ]
}